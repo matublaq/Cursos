{
 "cells": [
  {
   "cell_type": "code",
   "execution_count": 125,
   "metadata": {},
   "outputs": [],
   "source": [
    "import numpy as np\n",
    "import pandas as pd\n",
    "import random"
   ]
  },
  {
   "cell_type": "code",
   "execution_count": 126,
   "metadata": {},
   "outputs": [
    {
     "name": "stdout",
     "output_type": "stream",
     "text": [
      "[[1, 2, 3], [4, 5, 6]]\n"
     ]
    }
   ],
   "source": [
    "Lista = [[1, 2, 3], [4, 5, 6]]\n",
    "print(Lista)"
   ]
  },
  {
   "cell_type": "code",
   "execution_count": 127,
   "metadata": {},
   "outputs": [
    {
     "name": "stdout",
     "output_type": "stream",
     "text": [
      "int32\n",
      "int8\n",
      "[[1 2 3]\n",
      " [4 5 6]]\n"
     ]
    }
   ],
   "source": [
    "array1 = np.array(Lista)\n",
    "print(array1.dtype)\n",
    "array1 = np.array(Lista, dtype=np.int8)\n",
    "print(array1.dtype)\n",
    "print(array1)"
   ]
  },
  {
   "cell_type": "code",
   "execution_count": 128,
   "metadata": {},
   "outputs": [
    {
     "name": "stdout",
     "output_type": "stream",
     "text": [
      "\u001b[1;31mType:\u001b[0m            ndarray\n",
      "\u001b[1;31mString form:\u001b[0m    \n",
      "[[1 2 3]\n",
      " [4 5 6]]\n",
      "\u001b[1;31mLength:\u001b[0m          2\n",
      "\u001b[1;31mFile:\u001b[0m            c:\\programdata\\anaconda3\\lib\\site-packages\\numpy\\__init__.py\n",
      "\u001b[1;31mDocstring:\u001b[0m       <no docstring>\n",
      "\u001b[1;31mClass docstring:\u001b[0m\n",
      "ndarray(shape, dtype=float, buffer=None, offset=0,\n",
      "        strides=None, order=None)\n",
      "\n",
      "An array object represents a multidimensional, homogeneous array\n",
      "of fixed-size items.  An associated data-type object describes the\n",
      "format of each element in the array (its byte-order, how many bytes it\n",
      "occupies in memory, whether it is an integer, a floating point number,\n",
      "or something else, etc.)\n",
      "\n",
      "Arrays should be constructed using `array`, `zeros` or `empty` (refer\n",
      "to the See Also section below).  The parameters given here refer to\n",
      "a low-level method (`ndarray(...)`) for instantiating an array.\n",
      "\n",
      "For more information, refer to the `numpy` module and examine the\n",
      "methods and attributes of an array.\n",
      "\n",
      "Parameters\n",
      "----------\n",
      "(for the __new__ method; see Notes below)\n",
      "\n",
      "shape : tuple of ints\n",
      "    Shape of created array.\n",
      "dtype : data-type, optional\n",
      "    Any object that can be interpreted as a numpy data type.\n",
      "buffer : object exposing buffer interface, optional\n",
      "    Used to fill the array with data.\n",
      "offset : int, optional\n",
      "    Offset of array data in buffer.\n",
      "strides : tuple of ints, optional\n",
      "    Strides of data in memory.\n",
      "order : {'C', 'F'}, optional\n",
      "    Row-major (C-style) or column-major (Fortran-style) order.\n",
      "\n",
      "Attributes\n",
      "----------\n",
      "T : ndarray\n",
      "    Transpose of the array.\n",
      "data : buffer\n",
      "    The array's elements, in memory.\n",
      "dtype : dtype object\n",
      "    Describes the format of the elements in the array.\n",
      "flags : dict\n",
      "    Dictionary containing information related to memory use, e.g.,\n",
      "    'C_CONTIGUOUS', 'OWNDATA', 'WRITEABLE', etc.\n",
      "flat : numpy.flatiter object\n",
      "    Flattened version of the array as an iterator.  The iterator\n",
      "    allows assignments, e.g., ``x.flat = 3`` (See `ndarray.flat` for\n",
      "    assignment examples; TODO).\n",
      "imag : ndarray\n",
      "    Imaginary part of the array.\n",
      "real : ndarray\n",
      "    Real part of the array.\n",
      "size : int\n",
      "    Number of elements in the array.\n",
      "itemsize : int\n",
      "    The memory use of each array element in bytes.\n",
      "nbytes : int\n",
      "    The total number of bytes required to store the array data,\n",
      "    i.e., ``itemsize * size``.\n",
      "ndim : int\n",
      "    The array's number of dimensions.\n",
      "shape : tuple of ints\n",
      "    Shape of the array.\n",
      "strides : tuple of ints\n",
      "    The step-size required to move from one element to the next in\n",
      "    memory. For example, a contiguous ``(3, 4)`` array of type\n",
      "    ``int16`` in C-order has strides ``(8, 2)``.  This implies that\n",
      "    to move from element to element in memory requires jumps of 2 bytes.\n",
      "    To move from row-to-row, one needs to jump 8 bytes at a time\n",
      "    (``2 * 4``).\n",
      "ctypes : ctypes object\n",
      "    Class containing properties of the array needed for interaction\n",
      "    with ctypes.\n",
      "base : ndarray\n",
      "    If the array is a view into another array, that array is its `base`\n",
      "    (unless that array is also a view).  The `base` array is where the\n",
      "    array data is actually stored.\n",
      "\n",
      "See Also\n",
      "--------\n",
      "array : Construct an array.\n",
      "zeros : Create an array, each element of which is zero.\n",
      "empty : Create an array, but leave its allocated memory unchanged (i.e.,\n",
      "        it contains \"garbage\").\n",
      "dtype : Create a data-type.\n",
      "\n",
      "Notes\n",
      "-----\n",
      "There are two modes of creating an array using ``__new__``:\n",
      "\n",
      "1. If `buffer` is None, then only `shape`, `dtype`, and `order`\n",
      "   are used.\n",
      "2. If `buffer` is an object exposing the buffer interface, then\n",
      "   all keywords are interpreted.\n",
      "\n",
      "No ``__init__`` method is needed because the array is fully initialized\n",
      "after the ``__new__`` method.\n",
      "\n",
      "Examples\n",
      "--------\n",
      "These examples illustrate the low-level `ndarray` constructor.  Refer\n",
      "to the `See Also` section above for easier ways of constructing an\n",
      "ndarray.\n",
      "\n",
      "First mode, `buffer` is None:\n",
      "\n",
      ">>> np.ndarray(shape=(2,2), dtype=float, order='F')\n",
      "array([[0.0e+000, 0.0e+000], # random\n",
      "       [     nan, 2.5e-323]])\n",
      "\n",
      "Second mode:\n",
      "\n",
      ">>> np.ndarray((2,), buffer=np.array([1,2,3]),\n",
      "...            offset=np.int_().itemsize,\n",
      "...            dtype=int) # offset = 1*itemsize, i.e. skip first element\n",
      "array([2, 3])\n"
     ]
    }
   ],
   "source": [
    "array1?"
   ]
  },
  {
   "cell_type": "code",
   "execution_count": 129,
   "metadata": {},
   "outputs": [
    {
     "name": "stdout",
     "output_type": "stream",
     "text": [
      "[10 15 20 25 30 35 40 45 50 55 60 65 70 75 80 85 90 95]\n",
      "int8\n"
     ]
    }
   ],
   "source": [
    "Array2 = np.arange(10, 100, 5, dtype=np.int8)\n",
    "print(Array2)\n",
    "print(Array2.dtype)"
   ]
  },
  {
   "cell_type": "code",
   "execution_count": 130,
   "metadata": {},
   "outputs": [
    {
     "name": "stdout",
     "output_type": "stream",
     "text": [
      "[1.         1.02040816 1.04081633 1.06122449 1.08163265 1.10204082\n",
      " 1.12244898 1.14285714 1.16326531 1.18367347 1.20408163 1.2244898\n",
      " 1.24489796 1.26530612 1.28571429 1.30612245 1.32653061 1.34693878\n",
      " 1.36734694 1.3877551  1.40816327 1.42857143 1.44897959 1.46938776\n",
      " 1.48979592 1.51020408 1.53061224 1.55102041 1.57142857 1.59183673\n",
      " 1.6122449  1.63265306 1.65306122 1.67346939 1.69387755 1.71428571\n",
      " 1.73469388 1.75510204 1.7755102  1.79591837 1.81632653 1.83673469\n",
      " 1.85714286 1.87755102 1.89795918 1.91836735 1.93877551 1.95918367\n",
      " 1.97959184 2.        ]\n"
     ]
    }
   ],
   "source": [
    "Array3 = np.linspace(1.0, 2.0, num=50)\n",
    "print(Array3)"
   ]
  },
  {
   "cell_type": "code",
   "execution_count": 131,
   "metadata": {},
   "outputs": [
    {
     "name": "stdout",
     "output_type": "stream",
     "text": [
      "[[0. 0. 0. 0.]\n",
      " [0. 0. 0. 0.]\n",
      " [0. 0. 0. 0.]\n",
      " [0. 0. 0. 0.]\n",
      " [0. 0. 0. 0.]]\n",
      "[[1. 1. 1. 1. 1.]\n",
      " [1. 1. 1. 1. 1.]\n",
      " [1. 1. 1. 1. 1.]\n",
      " [1. 1. 1. 1. 1.]]\n",
      "[[1. 0. 0. 0.]\n",
      " [0. 1. 0. 0.]\n",
      " [0. 0. 1. 0.]\n",
      " [0. 0. 0. 1.]]\n",
      "[[0. 0. 1. 0. 0. 0.]\n",
      " [0. 0. 0. 1. 0. 0.]\n",
      " [0. 0. 0. 0. 1. 0.]\n",
      " [0. 0. 0. 0. 0. 1.]]\n",
      "[[10 10 10 10 10]\n",
      " [10 10 10 10 10]]\n",
      "[[0.68917705 0.45558585 0.66567742 0.22617236 0.05723673]\n",
      " [0.68822178 0.20560561 0.08881759 0.18046268 0.38709525]]\n",
      "[[54 73 69 72 99 82]\n",
      " [16 10 23  0 36  4]\n",
      " [89 45 46 23 62 48]\n",
      " [94 37 67 31 81 30]\n",
      " [55 23 69 34 39 54]]\n"
     ]
    }
   ],
   "source": [
    "Array4 = np.zeros((5, 4))\n",
    "print(Array4)\n",
    "Array4 = np.ones((4, 5))\n",
    "print(Array4)\n",
    "Array4 = np.identity(4)\n",
    "print(Array4)\n",
    "Array4 = np.eye(4, 6, 2) #En que columna empiesa la digonal de 1.\n",
    "print(Array4)\n",
    "Array4 = np.full((2, 5), 10)\n",
    "print(Array4)\n",
    "Array4 = np.random.random((2, 5))\n",
    "print(Array4)\n",
    "Array4 = np.random.randint(0, 100, size=(5, 6))\n",
    "print(Array4)"
   ]
  },
  {
   "cell_type": "code",
   "execution_count": 132,
   "metadata": {},
   "outputs": [
    {
     "name": "stdout",
     "output_type": "stream",
     "text": [
      "[[1 2 3]\n",
      " [2 3 4]\n",
      " [3 4 5]]\n"
     ]
    }
   ],
   "source": [
    "archivo = np.loadtxt(\"C:\\\\Users\\\\matia\\\\Desktop\\\\EducacionIT\\\\Archivos\\\\Matriz.txt\", delimiter=\",\", dtype=np.int8)\n",
    "print(archivo)"
   ]
  },
  {
   "cell_type": "code",
   "execution_count": 133,
   "metadata": {},
   "outputs": [
    {
     "name": "stdout",
     "output_type": "stream",
     "text": [
      "int8\n",
      "9\n",
      "9\n",
      "2\n",
      "(3, 3)\n",
      "(3, 1)\n"
     ]
    }
   ],
   "source": [
    "print(archivo.dtype)\n",
    "print(archivo.size)\n",
    "print(archivo.nbytes)\n",
    "print(archivo.ndim)\n",
    "print(archivo.shape)\n",
    "print(archivo.strides)#Cuantos bytes se necesitan para saltar de una fila a otra."
   ]
  },
  {
   "cell_type": "code",
   "execution_count": 134,
   "metadata": {},
   "outputs": [
    {
     "name": "stdout",
     "output_type": "stream",
     "text": [
      "['2007-07-13' '2006-01-13' '2010-12-13']\n",
      "['2007-08-12' '2006-02-12' '2011-01-12']\n"
     ]
    }
   ],
   "source": [
    "fecha = np.array([\"2007-07-13\", \"2006-01-13\", \"2010-12-13\"], dtype=\"datetime64\")\n",
    "print(fecha)\n",
    "print(fecha + 30)"
   ]
  },
  {
   "cell_type": "code",
   "execution_count": 135,
   "metadata": {},
   "outputs": [
    {
     "name": "stdout",
     "output_type": "stream",
     "text": [
      "[[54 73 69 72 99 82]\n",
      " [16 10 23  0 36  4]\n",
      " [89 45 46 23 62 48]\n",
      " [94 37 67 31 81 30]\n",
      " [55 23 69 34 39 54]]\n",
      "(5, 6) 5*6 = 30 elementos.\n",
      "[[54 73 69 72 99 82 16 10 23  0]\n",
      " [36  4 89 45 46 23 62 48 94 37]\n",
      " [67 31 81 30 55 23 69 34 39 54]] \n",
      " (3, 10) 3*10 = 30 elementos.\n"
     ]
    }
   ],
   "source": [
    "print(Array4)\n",
    "print(Array4.shape, \"5*6 = 30 elementos.\")\n",
    "\n",
    "Array5 = Array4.reshape(3, 10)\n",
    "print(Array5, \"\\n\", Array5.shape, \"3*10 = 30 elementos.\")"
   ]
  },
  {
   "cell_type": "code",
   "execution_count": 136,
   "metadata": {},
   "outputs": [
    {
     "name": "stdout",
     "output_type": "stream",
     "text": [
      "[[54 73 69 72 99 82]\n",
      " [16 10 23  0 36  4]\n",
      " [89 45 46 23 62 48]\n",
      " [94 37 67 31 81 30]\n",
      " [55 23 69 34 39 54]]\n",
      "62 62\n",
      "[89 45 46 23 62 48]\n",
      "[[10 23  0]\n",
      " [45 46 23]]\n",
      "54\n"
     ]
    }
   ],
   "source": [
    "print(Array4)\n",
    "print(Array4[2, 4], Array4[2][4])\n",
    "print(Array4[2, :])\n",
    "print(Array4[1:3, 1:4])#El ultimo del rango no se cuenta, es abierto.\n",
    "print(Array4[-1, -1])"
   ]
  },
  {
   "cell_type": "code",
   "execution_count": 137,
   "metadata": {},
   "outputs": [
    {
     "name": "stdout",
     "output_type": "stream",
     "text": [
      "[6 5 4 7 4 7 1 9 0 5]\n",
      "[ True False  True False  True False  True False  True False]\n",
      "10  =  10\n"
     ]
    },
    {
     "data": {
      "text/plain": [
       "array([6, 4, 4, 1, 0])"
      ]
     },
     "execution_count": 137,
     "metadata": {},
     "output_type": "execute_result"
    }
   ],
   "source": [
    "Array6 = np.random.randint(0, 10, 10)\n",
    "print(Array6)\n",
    "ArrayBooleans = np.array([True, False, True, False, True, False, True, False, True, False])\n",
    "print(ArrayBooleans)\n",
    "print(Array6.size, \" = \", ArrayBooleans.size)\n",
    "Array6[ArrayBooleans] #Solo devuelve los True. "
   ]
  },
  {
   "cell_type": "code",
   "execution_count": 142,
   "metadata": {},
   "outputs": [
    {
     "name": "stdout",
     "output_type": "stream",
     "text": [
      "[[99 73 99 99 99 82]\n",
      " [16 10 23 99 99  4]\n",
      " [89 99 46 23 62 99]\n",
      " [94 37 67 31 99 99]\n",
      " [55 23 99 34 99 99]]\n",
      "[[False False False False False False]\n",
      " [ True  True  True False False  True]\n",
      " [False False  True  True False False]\n",
      " [False  True False  True False False]\n",
      " [False  True False  True False False]]\n",
      "[16 10 23  4 46 23 37 31 23 34]\n",
      "[46 62 37 67 31 55 34]\n",
      "[[10000    73 10000 10000 10000    82]\n",
      " [   16    10    23 10000 10000     4]\n",
      " [   89 10000    46    23    62 10000]\n",
      " [   94    37    67    31 10000 10000]\n",
      " [   55    23 10000    34 10000 10000]]\n"
     ]
    }
   ],
   "source": [
    "print(Array4)\n",
    "print(Array4 < 50)\n",
    "print(Array4[Array4<50])\n",
    "print(Array4[(Array4>30) & (Array4<70)])\n",
    "Array4[(Array4%3==0)] = 10000\n",
    "print(Array4)"
   ]
  },
  {
   "cell_type": "code",
   "execution_count": 151,
   "metadata": {},
   "outputs": [
    {
     "name": "stdout",
     "output_type": "stream",
     "text": [
      "Array4:\n",
      " [[91 73 91 91 91 82]\n",
      " [16 10 23 91 91  4]\n",
      " [89 91 46 23 62 91]\n",
      " [94 37 67 31 91 91]\n",
      " [55 23 91 34 91 91]] \n",
      "Array7:\n",
      " [[14 27 41 84 55]\n",
      " [ 1 31 53 51 78]\n",
      " [52  7 76 51 80]\n",
      " [82 28 12 94 83]\n",
      " [77 94 64 29 30]\n",
      " [75 25 93 38 54]]\n"
     ]
    }
   ],
   "source": [
    "Array4[Array4==10000] = random.randint(1, 100)\n",
    "Array7 = np.random.randint(1, 100, size=(6, 5))\n",
    "print(\"Array4:\\n\", Array4, \"\\nArray7:\\n\", Array7)"
   ]
  }
 ],
 "metadata": {
  "interpreter": {
   "hash": "ad2bdc8ecc057115af97d19610ffacc2b4e99fae6737bb82f5d7fb13d2f2c186"
  },
  "kernelspec": {
   "display_name": "Python 3.9.7 ('base')",
   "language": "python",
   "name": "python3"
  },
  "language_info": {
   "codemirror_mode": {
    "name": "ipython",
    "version": 3
   },
   "file_extension": ".py",
   "mimetype": "text/x-python",
   "name": "python",
   "nbconvert_exporter": "python",
   "pygments_lexer": "ipython3",
   "version": "3.9.7"
  },
  "orig_nbformat": 4
 },
 "nbformat": 4,
 "nbformat_minor": 2
}
