{
 "cells": [
  {
   "cell_type": "code",
   "execution_count": 2,
   "metadata": {},
   "outputs": [],
   "source": [
    "import numpy as np\n",
    "import pandas as pd\n",
    "import random"
   ]
  },
  {
   "cell_type": "markdown",
   "metadata": {},
   "source": [
    "- Ejercicio 1\n",
    "\n",
    "    - A- Construir arrays a partir de una lista simple y una lista anidada usando tipos de datos numéricos distintos para cada una.\n",
    "    -B- Construir un array lineal de 36 elementos. Cambiar el shape para que tenga:\n",
    "        - 3 filas y 12 columnas \n",
    "        - 4 columnas \n",
    "\n",
    "    \n",
    "Parte A:"
   ]
  },
  {
   "cell_type": "code",
   "execution_count": 13,
   "metadata": {},
   "outputs": [
    {
     "name": "stdout",
     "output_type": "stream",
     "text": [
      "[1 2 3 4] \n",
      " [[1 2 3]\n",
      " [4 5 6]\n",
      " [7 8 9]]\n"
     ]
    }
   ],
   "source": [
    "ListaSimple = [1, 2, 3, 4]\n",
    "MatrizSimple = [[1, 2, 3], [4, 5, 6], [7, 8, 9]]\n",
    "\n",
    "Array1 = np.array(ListaSimple)\n",
    "Matriz1 = np.array(MatrizSimple)\n",
    "print(Array1, \"\\n\", Matriz1)"
   ]
  },
  {
   "cell_type": "markdown",
   "metadata": {},
   "source": [
    "PARTE B:"
   ]
  },
  {
   "cell_type": "code",
   "execution_count": 25,
   "metadata": {},
   "outputs": [
    {
     "name": "stdout",
     "output_type": "stream",
     "text": [
      "Array2:  [85 59 86 52 48  8 33 71 13 20  4 45 60  8 91  4  8 64 93 58 47 71 78 84\n",
      " 48 72 11 98  7  6 45 23 85 17 46  1]\n",
      "[[85 59 86 52 48  8 33 71 13 20  4 45]\n",
      " [60  8 91  4  8 64 93 58 47 71 78 84]\n",
      " [48 72 11 98  7  6 45 23 85 17 46  1]]\n",
      "[[85 59 86 52]\n",
      " [48  8 33 71]\n",
      " [13 20  4 45]\n",
      " [60  8 91  4]\n",
      " [ 8 64 93 58]\n",
      " [47 71 78 84]\n",
      " [48 72 11 98]\n",
      " [ 7  6 45 23]\n",
      " [85 17 46  1]]\n"
     ]
    }
   ],
   "source": [
    "Array2 = np.random.randint(0, 100, 36)\n",
    "print(\"Array2: \", Array2)\n",
    "\n",
    "Array3 = Array2.reshape(3, 12)\n",
    "print(Array3)\n",
    "Array3 = Array2.reshape(9, 4)\n",
    "print(Array3)\n"
   ]
  },
  {
   "cell_type": "markdown",
   "metadata": {},
   "source": [
    "- Ejercicio 2 \n",
    "    - Dado un vector de pesos(kg) y otro vector alturas(metros), calcular el índice de masa corporal general (un vector imc).\n"
   ]
  },
  {
   "cell_type": "code",
   "execution_count": 29,
   "metadata": {},
   "outputs": [
    {
     "data": {
      "text/plain": [
       "array([25.76298058, 23.82906199, 27.35884546, 23.75456538])"
      ]
     },
     "execution_count": 29,
     "metadata": {},
     "output_type": "execute_result"
    }
   ],
   "source": [
    "Pesos = np.array([78, 75.5, 80, 81.3])\n",
    "Alturas = np.array([1.74, 1.78, 1.71, 1.85])\n",
    "\n",
    "imc = Pesos/(Alturas**2)\n",
    "imc"
   ]
  },
  {
   "cell_type": "markdown",
   "metadata": {},
   "source": [
    "- Ejercicio 3\n",
    "    - Crear un vector con diez números, todos ceros\n",
    "    - Crear un vector con diez números al azar\n",
    "    - Crear una matriz de 2x3 y multiplicarla por su transpuesta"
   ]
  },
  {
   "cell_type": "code",
   "execution_count": 51,
   "metadata": {},
   "outputs": [
    {
     "name": "stdout",
     "output_type": "stream",
     "text": [
      "[0. 0. 0. 0. 0. 0. 0. 0. 0. 0.]\n",
      "[1 9 3 6 7 1 3 7 6 3]\n",
      "[[2 3 4]\n",
      " [3 4 5]]\n",
      "[[2 3]\n",
      " [3 4]\n",
      " [4 5]]\n"
     ]
    }
   ],
   "source": [
    "Ceros = np.zeros(10)\n",
    "print(Ceros)\n",
    "\n",
    "Azar = np.random.randint(0, 10, 10)\n",
    "print(Azar)\n",
    "\n",
    "Matriz = np.array([[2, 3, 4], [3, 4, 5]])\n",
    "print(Matriz)\n",
    "MatrizTranspuesta = Matriz.transpose()\n",
    "print(MatrizTranspuesta)"
   ]
  },
  {
   "cell_type": "code",
   "execution_count": null,
   "metadata": {},
   "outputs": [],
   "source": []
  }
 ],
 "metadata": {
  "interpreter": {
   "hash": "e0314dc982e8a3efb51afd2fccf8f08aea6f0fcf482884c0400dad91b66b3dd3"
  },
  "kernelspec": {
   "display_name": "Python 3.9.12 64-bit (windows store)",
   "language": "python",
   "name": "python3"
  },
  "language_info": {
   "codemirror_mode": {
    "name": "ipython",
    "version": 3
   },
   "file_extension": ".py",
   "mimetype": "text/x-python",
   "name": "python",
   "nbconvert_exporter": "python",
   "pygments_lexer": "ipython3",
   "version": "3.9.12"
  },
  "orig_nbformat": 4
 },
 "nbformat": 4,
 "nbformat_minor": 2
}
