{
 "cells": [
  {
   "cell_type": "code",
   "execution_count": 1,
   "metadata": {},
   "outputs": [],
   "source": [
    "import numpy as np\n",
    "import pandas as pd\n",
    "import matplotlib as plt\n",
    "import random"
   ]
  },
  {
   "cell_type": "markdown",
   "metadata": {},
   "source": [
    "- Ejercicio 1\n",
    "    - Crear series a partir de listas y a partir de arrays\n",
    "    - Crear dataframes a partir de listas anidadas, y de arrays anidados\n",
    "    - Crear dataframes especificando etiquetas para las columnas\n",
    "    - Cargar el dataframe del titanic, y visualizar la información basica del mismo"
   ]
  },
  {
   "cell_type": "code",
   "execution_count": 18,
   "metadata": {},
   "outputs": [
    {
     "name": "stdout",
     "output_type": "stream",
     "text": [
      "[1, 2, 3]\n",
      "0    1\n",
      "1    2\n",
      "2    3\n",
      "dtype: int64\n",
      "[1 2 3 4]\n",
      "0    1\n",
      "1    2\n",
      "2    3\n",
      "3    4\n",
      "dtype: int32\n"
     ]
    }
   ],
   "source": [
    "Buenas1 = [1, 2, 3]\n",
    "print(Buenas1)\n",
    "Buenas1 = pd.Series(Buenas1)\n",
    "print(Buenas1)\n",
    "\n",
    "Buenas2 = np.array([1, 2, 3, 4])\n",
    "print(Buenas2)\n",
    "Buenas2 = pd.Series(Buenas2)\n",
    "print(Buenas2)"
   ]
  },
  {
   "cell_type": "code",
   "execution_count": 19,
   "metadata": {},
   "outputs": [
    {
     "name": "stdout",
     "output_type": "stream",
     "text": [
      "[[1, 2], [3, 4]]\n",
      "   0  1\n",
      "0  1  2\n",
      "1  3  4\n",
      "[[1 2]\n",
      " [3 4]]\n",
      "   0  1\n",
      "0  1  2\n",
      "1  3  4\n"
     ]
    }
   ],
   "source": [
    "Buenas3 = [[1, 2], [3, 4]]\n",
    "print(Buenas3)\n",
    "Buenas3 = pd.DataFrame(Buenas3)\n",
    "print(Buenas3)\n",
    "\n",
    "Buenas4 = np.array([[1, 2], [3, 4]])\n",
    "print(Buenas4)\n",
    "Buenas4 = pd.DataFrame(Buenas4)\n",
    "print(Buenas4)"
   ]
  },
  {
   "cell_type": "code",
   "execution_count": 27,
   "metadata": {},
   "outputs": [
    {
     "name": "stdout",
     "output_type": "stream",
     "text": [
      "[[16 38 35 92 96]\n",
      " [10 77 26 67  9]\n",
      " [47 94 19 21 32]\n",
      " [14 42 90 72 74]]\n",
      "   Columna 1  Columna 2  Columna 3  Columna 4  Columna 5\n",
      "0         16         38         35         92         96\n",
      "1         10         77         26         67          9\n",
      "2         47         94         19         21         32\n",
      "3         14         42         90         72         74\n"
     ]
    }
   ],
   "source": [
    "Buenas5 = np.random.randint(1, 100, (4, 5))\n",
    "print(Buenas5)\n",
    "\n",
    "Buenas5 = pd.DataFrame(Buenas5, columns=[\"Columna 1\", \"Columna 2\", \"Columna 3\", \"Columna 4\", \"Columna 5\"])\n",
    "print(Buenas5)"
   ]
  },
  {
   "cell_type": "code",
   "execution_count": 36,
   "metadata": {},
   "outputs": [
    {
     "name": "stdout",
     "output_type": "stream",
     "text": [
      "<class 'pandas.core.frame.DataFrame'>\n",
      "RangeIndex: 891 entries, 0 to 890\n",
      "Data columns (total 12 columns):\n",
      " #   Column       Non-Null Count  Dtype  \n",
      "---  ------       --------------  -----  \n",
      " 0   PassengerId  891 non-null    int64  \n",
      " 1   Survived     891 non-null    int64  \n",
      " 2   Pclass       891 non-null    int64  \n",
      " 3   Name         891 non-null    object \n",
      " 4   Sex          891 non-null    object \n",
      " 5   Age          714 non-null    float64\n",
      " 6   SibSp        891 non-null    int64  \n",
      " 7   Parch        891 non-null    int64  \n",
      " 8   Ticket       891 non-null    object \n",
      " 9   Fare         891 non-null    float64\n",
      " 10  Cabin        204 non-null    object \n",
      " 11  Embarked     889 non-null    object \n",
      "dtypes: float64(2), int64(5), object(5)\n",
      "memory usage: 83.7+ KB\n",
      "None\n"
     ]
    }
   ],
   "source": [
    "DataTitanic = pd.read_csv(\"C:\\\\Users\\\\matia\\\\Desktop\\\\EducacionIT\\\\Archivos\\\\titanic.csv\")\n",
    "print(DataTitanic.info())"
   ]
  },
  {
   "cell_type": "markdown",
   "metadata": {},
   "source": [
    "- Ejercicio 2\n",
    "    - De titanic.csv , ya cargado como dataframe:\n",
    "        - Seleccionar las columnas “Survived”, “Pclass”, “Age” y “Sex”.\n",
    "        - Seleccionar las filas 200 a 400 de las columnas “Name” y “Age”.\n",
    "        - Cambiar el nombre de la columna “PassengerId” por “ID”.\n",
    "        - Seleccionar los datos de todas las mujeres de primera clase.\n",
    "        - Seleccionar los datos de los varones menores de edad de segunda clase."
   ]
  },
  {
   "cell_type": "code",
   "execution_count": 52,
   "metadata": {},
   "outputs": [
    {
     "name": "stdout",
     "output_type": "stream",
     "text": [
      "     Survived  Pclass   Age     Sex\n",
      "0           0       3  22.0    male\n",
      "1           1       1  38.0  female\n",
      "2           1       3  26.0  female\n",
      "3           1       1  35.0  female\n",
      "4           0       3  35.0    male\n",
      "..        ...     ...   ...     ...\n",
      "886         0       2  27.0    male\n",
      "887         1       1  19.0  female\n",
      "888         0       3   NaN  female\n",
      "889         1       1  26.0    male\n",
      "890         0       3  32.0    male\n",
      "\n",
      "[891 rows x 4 columns]\n",
      "                                 Name   Age\n",
      "200    Vande Walle, Mr. Nestor Cyriel  28.0\n",
      "201               Sage, Mr. Frederick   NaN\n",
      "202        Johanson, Mr. Jakob Alfred  34.0\n",
      "203              Youseff, Mr. Gerious  45.5\n",
      "204          Cohen, Mr. Gurshon \"Gus\"  18.0\n",
      "..                                ...   ...\n",
      "396               Olsson, Miss. Elina  31.0\n",
      "397           McKane, Mr. Peter David  46.0\n",
      "398                  Pain, Dr. Alfred  23.0\n",
      "399  Trout, Mrs. William H (Jessie L)  28.0\n",
      "400                Niskanen, Mr. Juha  39.0\n",
      "\n",
      "[201 rows x 2 columns]\n"
     ]
    }
   ],
   "source": [
    "print(DataTitanic[[\"Survived\", \"Pclass\", \"Age\", \"Sex\"]])\n",
    "print(DataTitanic.loc[200:400, [\"Name\", \"Age\"]])"
   ]
  },
  {
   "cell_type": "code",
   "execution_count": 68,
   "metadata": {},
   "outputs": [
    {
     "data": {
      "text/html": [
       "<div>\n",
       "<style scoped>\n",
       "    .dataframe tbody tr th:only-of-type {\n",
       "        vertical-align: middle;\n",
       "    }\n",
       "\n",
       "    .dataframe tbody tr th {\n",
       "        vertical-align: top;\n",
       "    }\n",
       "\n",
       "    .dataframe thead th {\n",
       "        text-align: right;\n",
       "    }\n",
       "</style>\n",
       "<table border=\"1\" class=\"dataframe\">\n",
       "  <thead>\n",
       "    <tr style=\"text-align: right;\">\n",
       "      <th></th>\n",
       "      <th>ID</th>\n",
       "      <th>Survived</th>\n",
       "      <th>Pclass</th>\n",
       "      <th>Name</th>\n",
       "      <th>Sex</th>\n",
       "      <th>Age</th>\n",
       "      <th>SibSp</th>\n",
       "      <th>Parch</th>\n",
       "      <th>Ticket</th>\n",
       "      <th>Fare</th>\n",
       "      <th>Cabin</th>\n",
       "      <th>Embarked</th>\n",
       "    </tr>\n",
       "  </thead>\n",
       "  <tbody>\n",
       "    <tr>\n",
       "      <th>0</th>\n",
       "      <td>1</td>\n",
       "      <td>0</td>\n",
       "      <td>3</td>\n",
       "      <td>Braund, Mr. Owen Harris</td>\n",
       "      <td>male</td>\n",
       "      <td>22.0</td>\n",
       "      <td>1</td>\n",
       "      <td>0</td>\n",
       "      <td>A/5 21171</td>\n",
       "      <td>7.2500</td>\n",
       "      <td>NaN</td>\n",
       "      <td>S</td>\n",
       "    </tr>\n",
       "    <tr>\n",
       "      <th>1</th>\n",
       "      <td>2</td>\n",
       "      <td>1</td>\n",
       "      <td>1</td>\n",
       "      <td>Cumings, Mrs. John Bradley (Florence Briggs Th...</td>\n",
       "      <td>female</td>\n",
       "      <td>38.0</td>\n",
       "      <td>1</td>\n",
       "      <td>0</td>\n",
       "      <td>PC 17599</td>\n",
       "      <td>71.2833</td>\n",
       "      <td>C85</td>\n",
       "      <td>C</td>\n",
       "    </tr>\n",
       "    <tr>\n",
       "      <th>2</th>\n",
       "      <td>3</td>\n",
       "      <td>1</td>\n",
       "      <td>3</td>\n",
       "      <td>Heikkinen, Miss. Laina</td>\n",
       "      <td>female</td>\n",
       "      <td>26.0</td>\n",
       "      <td>0</td>\n",
       "      <td>0</td>\n",
       "      <td>STON/O2. 3101282</td>\n",
       "      <td>7.9250</td>\n",
       "      <td>NaN</td>\n",
       "      <td>S</td>\n",
       "    </tr>\n",
       "    <tr>\n",
       "      <th>3</th>\n",
       "      <td>4</td>\n",
       "      <td>1</td>\n",
       "      <td>1</td>\n",
       "      <td>Futrelle, Mrs. Jacques Heath (Lily May Peel)</td>\n",
       "      <td>female</td>\n",
       "      <td>35.0</td>\n",
       "      <td>1</td>\n",
       "      <td>0</td>\n",
       "      <td>113803</td>\n",
       "      <td>53.1000</td>\n",
       "      <td>C123</td>\n",
       "      <td>S</td>\n",
       "    </tr>\n",
       "    <tr>\n",
       "      <th>4</th>\n",
       "      <td>5</td>\n",
       "      <td>0</td>\n",
       "      <td>3</td>\n",
       "      <td>Allen, Mr. William Henry</td>\n",
       "      <td>male</td>\n",
       "      <td>35.0</td>\n",
       "      <td>0</td>\n",
       "      <td>0</td>\n",
       "      <td>373450</td>\n",
       "      <td>8.0500</td>\n",
       "      <td>NaN</td>\n",
       "      <td>S</td>\n",
       "    </tr>\n",
       "    <tr>\n",
       "      <th>...</th>\n",
       "      <td>...</td>\n",
       "      <td>...</td>\n",
       "      <td>...</td>\n",
       "      <td>...</td>\n",
       "      <td>...</td>\n",
       "      <td>...</td>\n",
       "      <td>...</td>\n",
       "      <td>...</td>\n",
       "      <td>...</td>\n",
       "      <td>...</td>\n",
       "      <td>...</td>\n",
       "      <td>...</td>\n",
       "    </tr>\n",
       "    <tr>\n",
       "      <th>886</th>\n",
       "      <td>887</td>\n",
       "      <td>0</td>\n",
       "      <td>2</td>\n",
       "      <td>Montvila, Rev. Juozas</td>\n",
       "      <td>male</td>\n",
       "      <td>27.0</td>\n",
       "      <td>0</td>\n",
       "      <td>0</td>\n",
       "      <td>211536</td>\n",
       "      <td>13.0000</td>\n",
       "      <td>NaN</td>\n",
       "      <td>S</td>\n",
       "    </tr>\n",
       "    <tr>\n",
       "      <th>887</th>\n",
       "      <td>888</td>\n",
       "      <td>1</td>\n",
       "      <td>1</td>\n",
       "      <td>Graham, Miss. Margaret Edith</td>\n",
       "      <td>female</td>\n",
       "      <td>19.0</td>\n",
       "      <td>0</td>\n",
       "      <td>0</td>\n",
       "      <td>112053</td>\n",
       "      <td>30.0000</td>\n",
       "      <td>B42</td>\n",
       "      <td>S</td>\n",
       "    </tr>\n",
       "    <tr>\n",
       "      <th>888</th>\n",
       "      <td>889</td>\n",
       "      <td>0</td>\n",
       "      <td>3</td>\n",
       "      <td>Johnston, Miss. Catherine Helen \"Carrie\"</td>\n",
       "      <td>female</td>\n",
       "      <td>NaN</td>\n",
       "      <td>1</td>\n",
       "      <td>2</td>\n",
       "      <td>W./C. 6607</td>\n",
       "      <td>23.4500</td>\n",
       "      <td>NaN</td>\n",
       "      <td>S</td>\n",
       "    </tr>\n",
       "    <tr>\n",
       "      <th>889</th>\n",
       "      <td>890</td>\n",
       "      <td>1</td>\n",
       "      <td>1</td>\n",
       "      <td>Behr, Mr. Karl Howell</td>\n",
       "      <td>male</td>\n",
       "      <td>26.0</td>\n",
       "      <td>0</td>\n",
       "      <td>0</td>\n",
       "      <td>111369</td>\n",
       "      <td>30.0000</td>\n",
       "      <td>C148</td>\n",
       "      <td>C</td>\n",
       "    </tr>\n",
       "    <tr>\n",
       "      <th>890</th>\n",
       "      <td>891</td>\n",
       "      <td>0</td>\n",
       "      <td>3</td>\n",
       "      <td>Dooley, Mr. Patrick</td>\n",
       "      <td>male</td>\n",
       "      <td>32.0</td>\n",
       "      <td>0</td>\n",
       "      <td>0</td>\n",
       "      <td>370376</td>\n",
       "      <td>7.7500</td>\n",
       "      <td>NaN</td>\n",
       "      <td>Q</td>\n",
       "    </tr>\n",
       "  </tbody>\n",
       "</table>\n",
       "<p>891 rows × 12 columns</p>\n",
       "</div>"
      ],
      "text/plain": [
       "      ID  Survived  Pclass                                               Name  \\\n",
       "0      1         0       3                            Braund, Mr. Owen Harris   \n",
       "1      2         1       1  Cumings, Mrs. John Bradley (Florence Briggs Th...   \n",
       "2      3         1       3                             Heikkinen, Miss. Laina   \n",
       "3      4         1       1       Futrelle, Mrs. Jacques Heath (Lily May Peel)   \n",
       "4      5         0       3                           Allen, Mr. William Henry   \n",
       "..   ...       ...     ...                                                ...   \n",
       "886  887         0       2                              Montvila, Rev. Juozas   \n",
       "887  888         1       1                       Graham, Miss. Margaret Edith   \n",
       "888  889         0       3           Johnston, Miss. Catherine Helen \"Carrie\"   \n",
       "889  890         1       1                              Behr, Mr. Karl Howell   \n",
       "890  891         0       3                                Dooley, Mr. Patrick   \n",
       "\n",
       "        Sex   Age  SibSp  Parch            Ticket     Fare Cabin Embarked  \n",
       "0      male  22.0      1      0         A/5 21171   7.2500   NaN        S  \n",
       "1    female  38.0      1      0          PC 17599  71.2833   C85        C  \n",
       "2    female  26.0      0      0  STON/O2. 3101282   7.9250   NaN        S  \n",
       "3    female  35.0      1      0            113803  53.1000  C123        S  \n",
       "4      male  35.0      0      0            373450   8.0500   NaN        S  \n",
       "..      ...   ...    ...    ...               ...      ...   ...      ...  \n",
       "886    male  27.0      0      0            211536  13.0000   NaN        S  \n",
       "887  female  19.0      0      0            112053  30.0000   B42        S  \n",
       "888  female   NaN      1      2        W./C. 6607  23.4500   NaN        S  \n",
       "889    male  26.0      0      0            111369  30.0000  C148        C  \n",
       "890    male  32.0      0      0            370376   7.7500   NaN        Q  \n",
       "\n",
       "[891 rows x 12 columns]"
      ]
     },
     "execution_count": 68,
     "metadata": {},
     "output_type": "execute_result"
    }
   ],
   "source": [
    "DataTitanic.rename(columns={\"PassengerId\":\"ID\"})"
   ]
  },
  {
   "cell_type": "code",
   "execution_count": 87,
   "metadata": {},
   "outputs": [
    {
     "name": "stdout",
     "output_type": "stream",
     "text": [
      "                                                  Name     Sex\n",
      "1    Cumings, Mrs. John Bradley (Florence Briggs Th...  female\n",
      "3         Futrelle, Mrs. Jacques Heath (Lily May Peel)  female\n",
      "11                            Bonnell, Miss. Elizabeth  female\n",
      "31      Spencer, Mrs. William Augustus (Marie Eugenie)  female\n",
      "52            Harper, Mrs. Henry Sleeper (Myna Haxtun)  female\n",
      "..                                                 ...     ...\n",
      "856         Wick, Mrs. George Dennick (Mary Hitchcock)  female\n",
      "862  Swift, Mrs. Frederick Joel (Margaret Welles Ba...  female\n",
      "871   Beckwith, Mrs. Richard Leonard (Sallie Monypeny)  female\n",
      "879      Potter, Mrs. Thomas Jr (Lily Alexenia Wilson)  female\n",
      "887                       Graham, Miss. Margaret Edith  female\n",
      "\n",
      "[94 rows x 2 columns]\n",
      "94\n"
     ]
    }
   ],
   "source": [
    "#Seleccionar los datos de todas las mujeres de primera clase.\n",
    "\n",
    "print(DataTitanic.loc[(DataTitanic[\"Sex\"]==\"female\")&(DataTitanic[\"Pclass\"]==1), [\"Name\", \"Sex\"]])\n",
    "print(len(DataTitanic[(DataTitanic[\"Sex\"]==\"female\")&(DataTitanic[\"Pclass\"]==1)]))"
   ]
  },
  {
   "cell_type": "code",
   "execution_count": 80,
   "metadata": {},
   "outputs": [
    {
     "name": "stdout",
     "output_type": "stream",
     "text": [
      "     PassengerId  Survived  Pclass                             Name   Sex  \\\n",
      "78            79         1       2    Caldwell, Master. Alden Gates  male   \n",
      "183          184         1       2        Becker, Master. Richard F  male   \n",
      "193          194         1       2       Navratil, Master. Michel M  male   \n",
      "340          341         1       2   Navratil, Master. Edmond Roger  male   \n",
      "407          408         1       2   Richards, Master. William Rowe  male   \n",
      "549          550         1       2   Davies, Master. John Morgan Jr  male   \n",
      "755          756         1       2        Hamalainen, Master. Viljo  male   \n",
      "791          792         0       2              Gaskell, Mr. Alfred  male   \n",
      "827          828         1       2            Mallet, Master. Andre  male   \n",
      "831          832         1       2  Richards, Master. George Sibley  male   \n",
      "841          842         0       2         Mudd, Mr. Thomas Charles  male   \n",
      "\n",
      "       Age  SibSp  Parch           Ticket     Fare Cabin Embarked  \n",
      "78    0.83      0      2           248738  29.0000   NaN        S  \n",
      "183   1.00      2      1           230136  39.0000    F4        S  \n",
      "193   3.00      1      1           230080  26.0000    F2        S  \n",
      "340   2.00      1      1           230080  26.0000    F2        S  \n",
      "407   3.00      1      1            29106  18.7500   NaN        S  \n",
      "549   8.00      1      1       C.A. 33112  36.7500   NaN        S  \n",
      "755   0.67      1      1           250649  14.5000   NaN        S  \n",
      "791  16.00      0      0           239865  26.0000   NaN        S  \n",
      "827   1.00      0      2  S.C./PARIS 2079  37.0042   NaN        C  \n",
      "831   0.83      1      1            29106  18.7500   NaN        S  \n",
      "841  16.00      0      0      S.O./P.P. 3  10.5000   NaN        S  \n",
      "11\n"
     ]
    }
   ],
   "source": [
    "#Seleccionar los datos de los varones menores de edad de segunda clase.\n",
    "print(DataTitanic[(DataTitanic[\"Sex\"]==\"male\")&(DataTitanic[\"Age\"]<18)&(DataTitanic[\"Pclass\"]==2)])\n",
    "print(len(DataTitanic[(DataTitanic[\"Sex\"]==\"male\")&(DataTitanic[\"Age\"]<18)&(DataTitanic[\"Pclass\"]==2)]))"
   ]
  },
  {
   "cell_type": "markdown",
   "metadata": {},
   "source": [
    "- Ejercicio 3\n",
    "    - Del titanic.csv ya cargado como dataframe:\n",
    "        - Encontrar el promedio de edad de hombres y de las  mujeres.\n",
    "        - Encontrar la cantidad de sobrevivientes de hombres y las mujeres.\n"
   ]
  },
  {
   "cell_type": "code",
   "execution_count": 94,
   "metadata": {},
   "outputs": [
    {
     "name": "stdout",
     "output_type": "stream",
     "text": [
      "El promedio de edad de los varones en el Titanic, era de:  30.72664459161148\n",
      "El promedio de edad de las mujeres en el Titanic era de:  27.915708812260537\n"
     ]
    }
   ],
   "source": [
    "print(\"El promedio de edad de los varones en el Titanic, era de: \", DataTitanic[DataTitanic[\"Sex\"]==\"male\"][\"Age\"].mean())\n",
    "print(\"El promedio de edad de las mujeres en el Titanic era de: \", DataTitanic[DataTitanic[\"Sex\"]==\"female\"][\"Age\"].mean())"
   ]
  },
  {
   "cell_type": "code",
   "execution_count": 102,
   "metadata": {},
   "outputs": [
    {
     "name": "stdout",
     "output_type": "stream",
     "text": [
      "La cantidad de varones que sobrevivieron al Titanic fue de:  109\n",
      "La cantidad de mujeres que sobrevivieron al Titanic fue de:  233\n"
     ]
    }
   ],
   "source": [
    "print(\"La cantidad de varones que sobrevivieron al Titanic fue de: \", len(DataTitanic.loc[(DataTitanic[\"Survived\"]==1)&(DataTitanic[\"Sex\"]==\"male\")]))\n",
    "print(\"La cantidad de mujeres que sobrevivieron al Titanic fue de: \", len(DataTitanic.loc[(DataTitanic[\"Sex\"]==\"female\")&(DataTitanic[\"Survived\"]==1)]))"
   ]
  },
  {
   "cell_type": "code",
   "execution_count": 110,
   "metadata": {},
   "outputs": [
    {
     "name": "stdout",
     "output_type": "stream",
     "text": [
      "En el Titanic viajaban  891 personas.\n",
      "Murieron  549 personas, y sobrevivieron  342 personas.\n"
     ]
    }
   ],
   "source": [
    "len(DataTitanic[DataTitanic[\"Survived\"]==1])\n",
    "print(\"En el Titanic viajaban \", len(DataTitanic), \"personas.\\nMurieron \", len(DataTitanic[DataTitanic[\"Survived\"]==0]), \"personas, y sobrevivieron \", len(DataTitanic[DataTitanic[\"Survived\"]==1]), \"personas.\")"
   ]
  },
  {
   "cell_type": "code",
   "execution_count": null,
   "metadata": {},
   "outputs": [],
   "source": []
  }
 ],
 "metadata": {
  "interpreter": {
   "hash": "ad2bdc8ecc057115af97d19610ffacc2b4e99fae6737bb82f5d7fb13d2f2c186"
  },
  "kernelspec": {
   "display_name": "Python 3.9.7 ('base')",
   "language": "python",
   "name": "python3"
  },
  "language_info": {
   "codemirror_mode": {
    "name": "ipython",
    "version": 3
   },
   "file_extension": ".py",
   "mimetype": "text/x-python",
   "name": "python",
   "nbconvert_exporter": "python",
   "pygments_lexer": "ipython3",
   "version": "3.9.7"
  },
  "orig_nbformat": 4
 },
 "nbformat": 4,
 "nbformat_minor": 2
}
