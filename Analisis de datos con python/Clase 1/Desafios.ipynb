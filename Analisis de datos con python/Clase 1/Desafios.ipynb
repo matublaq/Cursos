{
 "cells": [
  {
   "cell_type": "code",
   "execution_count": 3,
   "metadata": {},
   "outputs": [],
   "source": [
    "import random \n",
    "import numpy as np\n",
    "import pandas as pd\n",
    "import matplotlib as mpl"
   ]
  },
  {
   "cell_type": "markdown",
   "metadata": {},
   "source": [
    "Ejercicio 1\n",
    "Dada una lista de números encontrar el promedio\n",
    "de sus elementos:\n",
    "1. Sin usar ninguna función.\n",
    "2. Usando funciones incorporadas de Python."
   ]
  },
  {
   "cell_type": "code",
   "execution_count": 5,
   "metadata": {},
   "outputs": [
    {
     "name": "stdout",
     "output_type": "stream",
     "text": [
      "Los numeros son:  [2, 6, 8, 10, 3, 2, 1, 10, 4, 3]\n",
      "Sin usar funcion:  4.9\n",
      "Usando funcion:  4.9\n"
     ]
    }
   ],
   "source": [
    "def GenNumRan(x):\n",
    "    x = random.randint(0, 10)\n",
    "    return x\n",
    "\n",
    "Numeros = [ GenNumRan(i) for i in range(0, 10, 1) ]\n",
    "print(\"Los numeros son: \", Numeros)\n",
    "\n",
    "promedio = 0\n",
    "contador = 0\n",
    "for i in range(0, len(Numeros), 1):\n",
    "    promedio = promedio + Numeros[i]\n",
    "    contador += 1\n",
    "print(\"Sin usar funcion: \", promedio/contador)\n",
    "\n",
    "print(\"Usando funcion: \", sum(Numeros)/len(Numeros))\n",
    "\n",
    "\n"
   ]
  },
  {
   "cell_type": "markdown",
   "metadata": {},
   "source": [
    "Ejercicio 2\n",
    "Crear una lista con los primeros 10 múltiplos de 5:\n",
    "1. Usando bucles tradicionales.\n",
    "2. Usando listas por comprensión."
   ]
  },
  {
   "cell_type": "code",
   "execution_count": 6,
   "metadata": {},
   "outputs": [
    {
     "name": "stdout",
     "output_type": "stream",
     "text": [
      "Multiplos de 5 con bucles tradicionales:  [0, 5, 10, 15, 20, 25, 30, 35, 40, 45]\n",
      "Multiplos de 5 con lista por comprension:  [0, 5, 10, 15, 20, 25, 30, 35, 40, 45]\n"
     ]
    }
   ],
   "source": [
    "multiplos1 = []\n",
    "for i in range(0, 10, 1):\n",
    "    multiplos1.append(5*i)\n",
    "print(\"Multiplos de 5 con bucles tradicionales: \", multiplos1)\n",
    "\n",
    "multiplos2 = [ 5*i for i in range(0, 10, 1) ]\n",
    "print(\"Multiplos de 5 con lista por comprension: \", multiplos2)"
   ]
  },
  {
   "cell_type": "markdown",
   "metadata": {},
   "source": [
    "Dadas dos listas, crear otra que tenga los elementos\n",
    "que están en la primera y que no están en la segunda:\n",
    "1. Usando bucles tradicionales.\n",
    "2. Usando listas por comprensión.\n",
    "Cada elemento debe aparecer tantas veces como en\n",
    "la lista original."
   ]
  },
  {
   "cell_type": "code",
   "execution_count": 10,
   "metadata": {},
   "outputs": [
    {
     "name": "stdout",
     "output_type": "stream",
     "text": [
      "Lista1 =  [1, 2, 6, 10, 8, 5, 1, 9, 9, 6] \n",
      "Lista2 =  [1, 3, 9, 6, 9, 6, 10, 5, 2, 1]\n",
      "Usando bucles tradicionales:  [9]\n",
      "Usando listas por compresion:  [8]\n"
     ]
    }
   ],
   "source": [
    "Lista1 = [ GenNumRan(i) for i in range(0, 10, 1) ]\n",
    "Lista2 = [ GenNumRan(i) for i in range(0, 10, 1) ]\n",
    "print(\"Lista1 = \", Lista1, \"\\nLista2 = \", Lista2)\n",
    "\n",
    "#Lista3 = Lista1 - Lista2\n",
    "Lista3 = []\n",
    "for i in Lista1:\n",
    "    if(i not in Lista2):\n",
    "        Lista3.append(Lista1[i])\n",
    "print(\"Usando bucles tradicionales: \", Lista3)\n",
    "\n",
    "Lista3 = [ i for i in Lista1 if i not in Lista2 ]\n",
    "print(\"Usando listas por compresion: \", Lista3)"
   ]
  },
  {
   "cell_type": "code",
   "execution_count": null,
   "metadata": {},
   "outputs": [],
   "source": []
  }
 ],
 "metadata": {
  "interpreter": {
   "hash": "e0314dc982e8a3efb51afd2fccf8f08aea6f0fcf482884c0400dad91b66b3dd3"
  },
  "kernelspec": {
   "display_name": "Python 3.9.12 64-bit (windows store)",
   "language": "python",
   "name": "python3"
  },
  "language_info": {
   "codemirror_mode": {
    "name": "ipython",
    "version": 3
   },
   "file_extension": ".py",
   "mimetype": "text/x-python",
   "name": "python",
   "nbconvert_exporter": "python",
   "pygments_lexer": "ipython3",
   "version": "3.9.12"
  },
  "orig_nbformat": 4
 },
 "nbformat": 4,
 "nbformat_minor": 2
}
