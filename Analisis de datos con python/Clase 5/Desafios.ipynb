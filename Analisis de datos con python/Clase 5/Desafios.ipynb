{
 "cells": [
  {
   "cell_type": "code",
   "execution_count": 2,
   "metadata": {},
   "outputs": [],
   "source": [
    "import numpy as np\n",
    "import pandas as pd\n",
    "import matplotlib as plot\n",
    "import random"
   ]
  },
  {
   "cell_type": "code",
   "execution_count": 4,
   "metadata": {},
   "outputs": [
    {
     "data": {
      "text/html": [
       "<div>\n",
       "<style scoped>\n",
       "    .dataframe tbody tr th:only-of-type {\n",
       "        vertical-align: middle;\n",
       "    }\n",
       "\n",
       "    .dataframe tbody tr th {\n",
       "        vertical-align: top;\n",
       "    }\n",
       "\n",
       "    .dataframe thead th {\n",
       "        text-align: right;\n",
       "    }\n",
       "</style>\n",
       "<table border=\"1\" class=\"dataframe\">\n",
       "  <thead>\n",
       "    <tr style=\"text-align: right;\">\n",
       "      <th></th>\n",
       "      <th>Date</th>\n",
       "      <th>Price</th>\n",
       "      <th>Open</th>\n",
       "      <th>High</th>\n",
       "      <th>Low</th>\n",
       "    </tr>\n",
       "  </thead>\n",
       "  <tbody>\n",
       "    <tr>\n",
       "      <th>0</th>\n",
       "      <td>Aug 01, 2018</td>\n",
       "      <td>1216.6</td>\n",
       "      <td>1223.40</td>\n",
       "      <td>1223.4</td>\n",
       "      <td>1216.20</td>\n",
       "    </tr>\n",
       "    <tr>\n",
       "      <th>1</th>\n",
       "      <td>Jul 31, 2018</td>\n",
       "      <td>1223.7</td>\n",
       "      <td>1220.40</td>\n",
       "      <td>1228.1</td>\n",
       "      <td>1213.00</td>\n",
       "    </tr>\n",
       "    <tr>\n",
       "      <th>2</th>\n",
       "      <td>Jul 30, 2018</td>\n",
       "      <td>1221.3</td>\n",
       "      <td>1222.50</td>\n",
       "      <td>1223.9</td>\n",
       "      <td>1218.10</td>\n",
       "    </tr>\n",
       "    <tr>\n",
       "      <th>3</th>\n",
       "      <td>Jul 27, 2018</td>\n",
       "      <td>1222.2</td>\n",
       "      <td>1223.50</td>\n",
       "      <td>1226.8</td>\n",
       "      <td>1216.70</td>\n",
       "    </tr>\n",
       "    <tr>\n",
       "      <th>4</th>\n",
       "      <td>Jul 26, 2018</td>\n",
       "      <td>1225.3</td>\n",
       "      <td>1227.80</td>\n",
       "      <td>1227.8</td>\n",
       "      <td>1227.80</td>\n",
       "    </tr>\n",
       "    <tr>\n",
       "      <th>...</th>\n",
       "      <td>...</td>\n",
       "      <td>...</td>\n",
       "      <td>...</td>\n",
       "      <td>...</td>\n",
       "      <td>...</td>\n",
       "    </tr>\n",
       "    <tr>\n",
       "      <th>9766</th>\n",
       "      <td>Jan 03, 1980</td>\n",
       "      <td>625.0</td>\n",
       "      <td>627.00</td>\n",
       "      <td>640.0</td>\n",
       "      <td>603.00</td>\n",
       "    </tr>\n",
       "    <tr>\n",
       "      <th>9767</th>\n",
       "      <td>Jan 02, 1980</td>\n",
       "      <td>575.5</td>\n",
       "      <td>562.50</td>\n",
       "      <td>577.0</td>\n",
       "      <td>558.00</td>\n",
       "    </tr>\n",
       "    <tr>\n",
       "      <th>9768</th>\n",
       "      <td>Dec 31, 1979</td>\n",
       "      <td>533.6</td>\n",
       "      <td>527.88</td>\n",
       "      <td>534.5</td>\n",
       "      <td>527.88</td>\n",
       "    </tr>\n",
       "    <tr>\n",
       "      <th>9769</th>\n",
       "      <td>Dec 28, 1979</td>\n",
       "      <td>517.8</td>\n",
       "      <td>516.00</td>\n",
       "      <td>517.8</td>\n",
       "      <td>510.40</td>\n",
       "    </tr>\n",
       "    <tr>\n",
       "      <th>9770</th>\n",
       "      <td>Dec 27, 1979</td>\n",
       "      <td>515.5</td>\n",
       "      <td>517.00</td>\n",
       "      <td>517.0</td>\n",
       "      <td>513.00</td>\n",
       "    </tr>\n",
       "  </tbody>\n",
       "</table>\n",
       "<p>9771 rows × 5 columns</p>\n",
       "</div>"
      ],
      "text/plain": [
       "              Date   Price     Open    High      Low\n",
       "0     Aug 01, 2018  1216.6  1223.40  1223.4  1216.20\n",
       "1     Jul 31, 2018  1223.7  1220.40  1228.1  1213.00\n",
       "2     Jul 30, 2018  1221.3  1222.50  1223.9  1218.10\n",
       "3     Jul 27, 2018  1222.2  1223.50  1226.8  1216.70\n",
       "4     Jul 26, 2018  1225.3  1227.80  1227.8  1227.80\n",
       "...            ...     ...      ...     ...      ...\n",
       "9766  Jan 03, 1980   625.0   627.00   640.0   603.00\n",
       "9767  Jan 02, 1980   575.5   562.50   577.0   558.00\n",
       "9768  Dec 31, 1979   533.6   527.88   534.5   527.88\n",
       "9769  Dec 28, 1979   517.8   516.00   517.8   510.40\n",
       "9770  Dec 27, 1979   515.5   517.00   517.0   513.00\n",
       "\n",
       "[9771 rows x 5 columns]"
      ]
     },
     "execution_count": 4,
     "metadata": {},
     "output_type": "execute_result"
    }
   ],
   "source": [
    "GoldPrice = pd.read_csv(\"C:\\\\Users\\\\matia\\\\OneDrive\\\\Documentos\\\\EducacionIT\\\\Archivos\\\\goldprice.csv\")\n",
    "GoldPrice"
   ]
  },
  {
   "cell_type": "markdown",
   "metadata": {},
   "source": [
    "- Ejercico 1 - Importar nuevamente “ titanic.csv ”  como dataframe, pero ahora hay que calcular:\n",
    "    - El promedio de edad de los que sobrevivieron y los que no.\n",
    "    - Edad máxima, edad mínima, de los que sobrevivieron y los que no.\n",
    "    - Edad promedio por clase de los que sobrevieron y los que no. "
   ]
  },
  {
   "cell_type": "code",
   "execution_count": 7,
   "metadata": {},
   "outputs": [
    {
     "data": {
      "text/html": [
       "<div>\n",
       "<style scoped>\n",
       "    .dataframe tbody tr th:only-of-type {\n",
       "        vertical-align: middle;\n",
       "    }\n",
       "\n",
       "    .dataframe tbody tr th {\n",
       "        vertical-align: top;\n",
       "    }\n",
       "\n",
       "    .dataframe thead th {\n",
       "        text-align: right;\n",
       "    }\n",
       "</style>\n",
       "<table border=\"1\" class=\"dataframe\">\n",
       "  <thead>\n",
       "    <tr style=\"text-align: right;\">\n",
       "      <th></th>\n",
       "      <th>PassengerId</th>\n",
       "      <th>Survived</th>\n",
       "      <th>Pclass</th>\n",
       "      <th>Name</th>\n",
       "      <th>Sex</th>\n",
       "      <th>Age</th>\n",
       "      <th>SibSp</th>\n",
       "      <th>Parch</th>\n",
       "      <th>Ticket</th>\n",
       "      <th>Fare</th>\n",
       "      <th>Cabin</th>\n",
       "      <th>Embarked</th>\n",
       "    </tr>\n",
       "  </thead>\n",
       "  <tbody>\n",
       "    <tr>\n",
       "      <th>0</th>\n",
       "      <td>1</td>\n",
       "      <td>0</td>\n",
       "      <td>3</td>\n",
       "      <td>Braund, Mr. Owen Harris</td>\n",
       "      <td>male</td>\n",
       "      <td>22.0</td>\n",
       "      <td>1</td>\n",
       "      <td>0</td>\n",
       "      <td>A/5 21171</td>\n",
       "      <td>7.2500</td>\n",
       "      <td>NaN</td>\n",
       "      <td>S</td>\n",
       "    </tr>\n",
       "    <tr>\n",
       "      <th>1</th>\n",
       "      <td>2</td>\n",
       "      <td>1</td>\n",
       "      <td>1</td>\n",
       "      <td>Cumings, Mrs. John Bradley (Florence Briggs Th...</td>\n",
       "      <td>female</td>\n",
       "      <td>38.0</td>\n",
       "      <td>1</td>\n",
       "      <td>0</td>\n",
       "      <td>PC 17599</td>\n",
       "      <td>71.2833</td>\n",
       "      <td>C85</td>\n",
       "      <td>C</td>\n",
       "    </tr>\n",
       "    <tr>\n",
       "      <th>2</th>\n",
       "      <td>3</td>\n",
       "      <td>1</td>\n",
       "      <td>3</td>\n",
       "      <td>Heikkinen, Miss. Laina</td>\n",
       "      <td>female</td>\n",
       "      <td>26.0</td>\n",
       "      <td>0</td>\n",
       "      <td>0</td>\n",
       "      <td>STON/O2. 3101282</td>\n",
       "      <td>7.9250</td>\n",
       "      <td>NaN</td>\n",
       "      <td>S</td>\n",
       "    </tr>\n",
       "    <tr>\n",
       "      <th>3</th>\n",
       "      <td>4</td>\n",
       "      <td>1</td>\n",
       "      <td>1</td>\n",
       "      <td>Futrelle, Mrs. Jacques Heath (Lily May Peel)</td>\n",
       "      <td>female</td>\n",
       "      <td>35.0</td>\n",
       "      <td>1</td>\n",
       "      <td>0</td>\n",
       "      <td>113803</td>\n",
       "      <td>53.1000</td>\n",
       "      <td>C123</td>\n",
       "      <td>S</td>\n",
       "    </tr>\n",
       "    <tr>\n",
       "      <th>4</th>\n",
       "      <td>5</td>\n",
       "      <td>0</td>\n",
       "      <td>3</td>\n",
       "      <td>Allen, Mr. William Henry</td>\n",
       "      <td>male</td>\n",
       "      <td>35.0</td>\n",
       "      <td>0</td>\n",
       "      <td>0</td>\n",
       "      <td>373450</td>\n",
       "      <td>8.0500</td>\n",
       "      <td>NaN</td>\n",
       "      <td>S</td>\n",
       "    </tr>\n",
       "    <tr>\n",
       "      <th>...</th>\n",
       "      <td>...</td>\n",
       "      <td>...</td>\n",
       "      <td>...</td>\n",
       "      <td>...</td>\n",
       "      <td>...</td>\n",
       "      <td>...</td>\n",
       "      <td>...</td>\n",
       "      <td>...</td>\n",
       "      <td>...</td>\n",
       "      <td>...</td>\n",
       "      <td>...</td>\n",
       "      <td>...</td>\n",
       "    </tr>\n",
       "    <tr>\n",
       "      <th>886</th>\n",
       "      <td>887</td>\n",
       "      <td>0</td>\n",
       "      <td>2</td>\n",
       "      <td>Montvila, Rev. Juozas</td>\n",
       "      <td>male</td>\n",
       "      <td>27.0</td>\n",
       "      <td>0</td>\n",
       "      <td>0</td>\n",
       "      <td>211536</td>\n",
       "      <td>13.0000</td>\n",
       "      <td>NaN</td>\n",
       "      <td>S</td>\n",
       "    </tr>\n",
       "    <tr>\n",
       "      <th>887</th>\n",
       "      <td>888</td>\n",
       "      <td>1</td>\n",
       "      <td>1</td>\n",
       "      <td>Graham, Miss. Margaret Edith</td>\n",
       "      <td>female</td>\n",
       "      <td>19.0</td>\n",
       "      <td>0</td>\n",
       "      <td>0</td>\n",
       "      <td>112053</td>\n",
       "      <td>30.0000</td>\n",
       "      <td>B42</td>\n",
       "      <td>S</td>\n",
       "    </tr>\n",
       "    <tr>\n",
       "      <th>888</th>\n",
       "      <td>889</td>\n",
       "      <td>0</td>\n",
       "      <td>3</td>\n",
       "      <td>Johnston, Miss. Catherine Helen \"Carrie\"</td>\n",
       "      <td>female</td>\n",
       "      <td>NaN</td>\n",
       "      <td>1</td>\n",
       "      <td>2</td>\n",
       "      <td>W./C. 6607</td>\n",
       "      <td>23.4500</td>\n",
       "      <td>NaN</td>\n",
       "      <td>S</td>\n",
       "    </tr>\n",
       "    <tr>\n",
       "      <th>889</th>\n",
       "      <td>890</td>\n",
       "      <td>1</td>\n",
       "      <td>1</td>\n",
       "      <td>Behr, Mr. Karl Howell</td>\n",
       "      <td>male</td>\n",
       "      <td>26.0</td>\n",
       "      <td>0</td>\n",
       "      <td>0</td>\n",
       "      <td>111369</td>\n",
       "      <td>30.0000</td>\n",
       "      <td>C148</td>\n",
       "      <td>C</td>\n",
       "    </tr>\n",
       "    <tr>\n",
       "      <th>890</th>\n",
       "      <td>891</td>\n",
       "      <td>0</td>\n",
       "      <td>3</td>\n",
       "      <td>Dooley, Mr. Patrick</td>\n",
       "      <td>male</td>\n",
       "      <td>32.0</td>\n",
       "      <td>0</td>\n",
       "      <td>0</td>\n",
       "      <td>370376</td>\n",
       "      <td>7.7500</td>\n",
       "      <td>NaN</td>\n",
       "      <td>Q</td>\n",
       "    </tr>\n",
       "  </tbody>\n",
       "</table>\n",
       "<p>891 rows × 12 columns</p>\n",
       "</div>"
      ],
      "text/plain": [
       "     PassengerId  Survived  Pclass  \\\n",
       "0              1         0       3   \n",
       "1              2         1       1   \n",
       "2              3         1       3   \n",
       "3              4         1       1   \n",
       "4              5         0       3   \n",
       "..           ...       ...     ...   \n",
       "886          887         0       2   \n",
       "887          888         1       1   \n",
       "888          889         0       3   \n",
       "889          890         1       1   \n",
       "890          891         0       3   \n",
       "\n",
       "                                                  Name     Sex   Age  SibSp  \\\n",
       "0                              Braund, Mr. Owen Harris    male  22.0      1   \n",
       "1    Cumings, Mrs. John Bradley (Florence Briggs Th...  female  38.0      1   \n",
       "2                               Heikkinen, Miss. Laina  female  26.0      0   \n",
       "3         Futrelle, Mrs. Jacques Heath (Lily May Peel)  female  35.0      1   \n",
       "4                             Allen, Mr. William Henry    male  35.0      0   \n",
       "..                                                 ...     ...   ...    ...   \n",
       "886                              Montvila, Rev. Juozas    male  27.0      0   \n",
       "887                       Graham, Miss. Margaret Edith  female  19.0      0   \n",
       "888           Johnston, Miss. Catherine Helen \"Carrie\"  female   NaN      1   \n",
       "889                              Behr, Mr. Karl Howell    male  26.0      0   \n",
       "890                                Dooley, Mr. Patrick    male  32.0      0   \n",
       "\n",
       "     Parch            Ticket     Fare Cabin Embarked  \n",
       "0        0         A/5 21171   7.2500   NaN        S  \n",
       "1        0          PC 17599  71.2833   C85        C  \n",
       "2        0  STON/O2. 3101282   7.9250   NaN        S  \n",
       "3        0            113803  53.1000  C123        S  \n",
       "4        0            373450   8.0500   NaN        S  \n",
       "..     ...               ...      ...   ...      ...  \n",
       "886      0            211536  13.0000   NaN        S  \n",
       "887      0            112053  30.0000   B42        S  \n",
       "888      2        W./C. 6607  23.4500   NaN        S  \n",
       "889      0            111369  30.0000  C148        C  \n",
       "890      0            370376   7.7500   NaN        Q  \n",
       "\n",
       "[891 rows x 12 columns]"
      ]
     },
     "execution_count": 7,
     "metadata": {},
     "output_type": "execute_result"
    }
   ],
   "source": [
    "DataTitanic = pd.read_csv(\"C:\\\\Users\\\\matia\\\\OneDrive\\\\Documentos\\\\EducacionIT\\\\Archivos\\\\titanic.csv\")\n",
    "DataTitanic"
   ]
  },
  {
   "cell_type": "code",
   "execution_count": 5,
   "metadata": {},
   "outputs": [
    {
     "name": "stdout",
     "output_type": "stream",
     "text": [
      "El promedio de edad de muertos y sobrevivientes.\n",
      "                Age\n",
      "Survived           \n",
      "0         30.626179\n",
      "1         28.343690\n",
      "\n",
      "\n",
      "Edad  maxima y minima de los muertos y sobrevivientes.\n",
      "           Age      \n",
      "           max   min\n",
      "Survived            \n",
      "0         74.0  1.00\n",
      "1         80.0  0.42\n",
      "\n",
      "\n",
      "Edad promedio, por clase, de los muertos y sobrevivientes.\n",
      "                       Age\n",
      "Survived Pclass           \n",
      "0        1       43.695312\n",
      "         2       33.544444\n",
      "         3       26.555556\n",
      "1        1       35.368197\n",
      "         2       25.901566\n",
      "         3       20.646118\n"
     ]
    }
   ],
   "source": [
    "print(\"El promedio de edad de muertos y sobrevivientes.\")\n",
    "print(DataTitanic[[\"Survived\", \"Age\"]].groupby(\"Survived\").mean())\n",
    "\n",
    "print(\"\\n\\nEdad  maxima y minima de los muertos y sobrevivientes.\")\n",
    "print(DataTitanic[[\"Survived\", \"Age\"]].groupby(\"Survived\").aggregate([\"max\", \"min\"]))\n",
    "\n",
    "print(\"\\n\\nEdad promedio, por clase, de los muertos y sobrevivientes.\")\n",
    "print(DataTitanic[[\"Pclass\", \"Age\", \"Survived\"]].groupby([\"Survived\", \"Pclass\"]).mean())"
   ]
  },
  {
   "cell_type": "markdown",
   "metadata": {},
   "source": [
    "- Ejercicio 2\n",
    "    - Del dataframe del titanic, calcular el promedio de edad de los que sobrevivieron y los que no, hacer un grafico de barras que sea representativo. \n",
    "\n",
    "    - Hacer un grafico del tipo histograma que represente la frecuencia de edades únicamente de las mujeres que sobrevivieron. \n"
   ]
  },
  {
   "cell_type": "code",
   "execution_count": 28,
   "metadata": {},
   "outputs": [
    {
     "name": "stdout",
     "output_type": "stream",
     "text": [
      "Grafico del promedio de edad de los muertos y sobrevivientes del Titanic.\n"
     ]
    },
    {
     "data": {
      "text/plain": [
       "<AxesSubplot:xlabel='Survived'>"
      ]
     },
     "execution_count": 28,
     "metadata": {},
     "output_type": "execute_result"
    },
    {
     "data": {
      "image/png": "[encoded data removed]",
      "text/plain": [
       "<Figure size 640x480 with 1 Axes>"
      ]
     },
     "metadata": {},
     "output_type": "display_data"
    }
   ],
   "source": [
    "print(\"Grafico del promedio de edad de los muertos y sobrevivientes del Titanic.\")\n",
    "DataTitanic[[\"Survived\", \"Age\"]].groupby(\"Survived\").mean().plot.bar()"
   ]
  },
  {
   "cell_type": "code",
   "execution_count": 7,
   "metadata": {},
   "outputs": [
    {
     "name": "stdout",
     "output_type": "stream",
     "text": [
      "Grafico edades de las mujeres que sobrevivieron al naufragio del Titanic.\n"
     ]
    },
    {
     "data": {
      "text/plain": [
       "<AxesSubplot:ylabel='Frequency'>"
      ]
     },
     "execution_count": 7,
     "metadata": {},
     "output_type": "execute_result"
    },
    {
     "data": {
      "image/png": "[encoded data removed]",
      "text/plain": [
       "<Figure size 432x288 with 1 Axes>"
      ]
     },
     "metadata": {
      "needs_background": "light"
     },
     "output_type": "display_data"
    }
   ],
   "source": [
    "print(\"Grafico edades de las mujeres que sobrevivieron al naufragio del Titanic.\")\n",
    "DataTitanic[(DataTitanic[\"Sex\"]==\"female\")&(DataTitanic[\"Survived\"]==1)][\"Age\"].plot.hist()"
   ]
  },
  {
   "cell_type": "markdown",
   "metadata": {},
   "source": [
    " - Ejercicio 3 - Importar el archivo “GoldPrice.csv“ (el mismo de la calse, de la ultimo apunte Pandas)  como dataframe y realizar los siguientes cálculos:\n",
    "\n",
    "    - Crear una nueva columna que solo contenga el año y llamarla “ Year ”.\n",
    "    - Determinar el promedio de precios del oro por año.\n",
    "    - Graficar el promedio del valor del oro por año con un grafico de barras.\n",
    "    - Calcular el año con mayor promedio y el año con menor promedio."
   ]
  },
  {
   "cell_type": "code",
   "execution_count": 8,
   "metadata": {},
   "outputs": [
    {
     "name": "stdout",
     "output_type": "stream",
     "text": [
      "           Date   Price     Open    High      Low  Year\n",
      "0    2018-08-01  1216.6  1223.40  1223.4  1216.20  2018\n",
      "1    2018-07-31  1223.7  1220.40  1228.1  1213.00  2018\n",
      "2    2018-07-30  1221.3  1222.50  1223.9  1218.10  2018\n",
      "3    2018-07-27  1222.2  1223.50  1226.8  1216.70  2018\n",
      "4    2018-07-26  1225.3  1227.80  1227.8  1227.80  2018\n",
      "...         ...     ...      ...     ...      ...   ...\n",
      "9766 1980-01-03   625.0   627.00   640.0   603.00  1980\n",
      "9767 1980-01-02   575.5   562.50   577.0   558.00  1980\n",
      "9768 1979-12-31   533.6   527.88   534.5   527.88  1979\n",
      "9769 1979-12-28   517.8   516.00   517.8   510.40  1979\n",
      "9770 1979-12-27   515.5   517.00   517.0   513.00  1979\n",
      "\n",
      "[9771 rows x 6 columns]\n"
     ]
    }
   ],
   "source": [
    "GoldPrice[\"Date\"] = pd.to_datetime(GoldPrice[\"Date\"])\n",
    "GoldPrice[\"Year\"] = GoldPrice[\"Date\"].dt.year\n",
    "print(GoldPrice)"
   ]
  },
  {
   "cell_type": "code",
   "execution_count": 9,
   "metadata": {},
   "outputs": [
    {
     "name": "stdout",
     "output_type": "stream",
     "text": [
      "Promedio del precio del oro con el correr de los anos.\n",
      "AxesSubplot(0.125,0.125;0.775x0.755)\n"
     ]
    },
    {
     "data": {
      "image/png": "[encoded data removed]",
      "text/plain": [
       "<Figure size 432x288 with 1 Axes>"
      ]
     },
     "metadata": {
      "needs_background": "light"
     },
     "output_type": "display_data"
    }
   ],
   "source": [
    "print(\"Promedio del precio del oro con el correr de los anos.\")\n",
    "print(GoldPrice[[\"Year\", \"Price\"]].groupby(\"Year\").mean().plot.bar())"
   ]
  },
  {
   "cell_type": "code",
   "execution_count": 16,
   "metadata": {},
   "outputs": [
    {
     "name": "stdout",
     "output_type": "stream",
     "text": [
      "Price    2012\n",
      "dtype: int64  con un precio de  1888.7\n"
     ]
    }
   ],
   "source": [
    "#Calcular el año con mayor promedio y el año con menor promedio.\n",
    "GoldPriceYear = GoldPrice[[\"Year\", \"Price\"]].groupby(\"Year\").mean()\n",
    "print(GoldPriceYear.idxmax(), \" con un precio de \", GoldPrice[[\"Price\", \"Year\"]].max()[\"Price\"])"
   ]
  },
  {
   "cell_type": "code",
   "execution_count": null,
   "metadata": {},
   "outputs": [],
   "source": []
  },
  {
   "cell_type": "code",
   "execution_count": null,
   "metadata": {},
   "outputs": [],
   "source": []
  }
 ],
 "metadata": {
  "kernelspec": {
   "display_name": "Python 3.10.5 64-bit",
   "language": "python",
   "name": "python3"
  },
  "language_info": {
   "codemirror_mode": {
    "name": "ipython",
    "version": 3
   },
   "file_extension": ".py",
   "mimetype": "text/x-python",
   "name": "python",
   "nbconvert_exporter": "python",
   "pygments_lexer": "ipython3",
   "version": "3.10.5"
  },
  "orig_nbformat": 4,
  "vscode": {
   "interpreter": {
    "hash": "3cb5fae0850c922f903a04d3514d1ed4ba39007c82693cf2152432305df4401f"
   }
  }
 },
 "nbformat": 4,
 "nbformat_minor": 2
}
