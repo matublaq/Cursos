{
 "cells": [
  {
   "cell_type": "markdown",
   "metadata": {},
   "source": [
    "Ejercicio 1\n",
    "Construir una función que dado un iterable,\n",
    "devuelva un diccionario con las frecuencias\n",
    "de sus elementos."
   ]
  },
  {
   "cell_type": "code",
   "execution_count": 1,
   "metadata": {},
   "outputs": [],
   "source": [
    "import random\n",
    "import numpy as np\n",
    "import pandas as pd\n"
   ]
  },
  {
   "cell_type": "code",
   "execution_count": 45,
   "metadata": {},
   "outputs": [
    {
     "name": "stdout",
     "output_type": "stream",
     "text": [
      "[8, 0, 1, 7, 1, 9, 8, 5, 3, 7]\n",
      "{8: 2, 0: 1, 1: 2, 7: 2, 9: 1, 5: 1, 3: 1}\n"
     ]
    }
   ],
   "source": [
    "ListaNumeros = []\n",
    "\n",
    "for i in range(0, 10, 1):\n",
    "    x = random.randint(0, 9)\n",
    "    ListaNumeros.append(x)\n",
    "print(ListaNumeros)\n",
    "\n",
    "frecuencia = {}\n",
    "def frecuenciaNumerica(ListaNumeros, frecuencia):\n",
    "    for i in ListaNumeros:\n",
    "        if i in frecuencia:\n",
    "            frecuencia[i] += 1\n",
    "        else:\n",
    "            frecuencia[i] = 1\n",
    "    return frecuencia\n",
    "\n",
    "print(frecuenciaNumerica(ListaNumeros, frecuencia))"
   ]
  },
  {
   "cell_type": "markdown",
   "metadata": {},
   "source": [
    "2: Construir una función que se llame suma_acotados. Esta función debe tomar un número arbitrario de argumentos posicionales y un keyword argument llamado cota que por defecto debe tener el valor None. Si el argumento cota es None, debe sumar todos los números, si no debe sumar los números que se encuentren entre –cota y cota. "
   ]
  },
  {
   "cell_type": "code",
   "execution_count": 55,
   "metadata": {},
   "outputs": [
    {
     "name": "stdout",
     "output_type": "stream",
     "text": [
      "18\n"
     ]
    }
   ],
   "source": [
    "def suma_acotados(*args, cota=None):\n",
    "    suma = 0\n",
    "    if(cota == None):\n",
    "        suma = sum(args)\n",
    "    else:\n",
    "        for i in args:\n",
    "            if(-cota<i<cota):\n",
    "                suma += i\n",
    "    return suma\n",
    "\n",
    "print(suma_acotados(1, 2, 3, 4, 3, 2, 1, 2))"
   ]
  },
  {
   "cell_type": "markdown",
   "metadata": {},
   "source": [
    "3. Supongamos que tenemos una lista de tuplas en donde cada una contiene el nombre de un producto y el precio correspondiente (por ejemplo: [(\"Campera\", 3500), (\"Mochila\", 2400), (\"Zapatillas\", 5200), (\"Jean\", 1600)]). Ordenar los productos según su precio de mayor a menor usando sorted, map y funciones lambda"
   ]
  },
  {
   "cell_type": "code",
   "execution_count": 63,
   "metadata": {},
   "outputs": [
    {
     "name": "stdout",
     "output_type": "stream",
     "text": [
      "[('Campera', 3500), ('Jean', 1600), ('Mochila', 2400), ('Zapatillas', 5200)]\n",
      "[('Zapatillas', 5200), ('Campera', 3500), ('Mochila', 2400), ('Jean', 1600)]\n",
      "['Zapatillas', 'Campera', 'Mochila', 'Jean']\n"
     ]
    }
   ],
   "source": [
    "ProductosPrecios = [(\"Campera\", 3500), (\"Mochila\", 2400), (\"Zapatillas\", 5200), (\"Jean\", 1600)]\n",
    "\n",
    "print(sorted(ProductosPrecios))\n",
    "print(sorted(ProductosPrecios, key=lambda x:x[1], reverse=True))\n",
    "\n",
    "print(list(map(lambda x:x[0], sorted(ProductosPrecios, key=lambda x:x[1], reverse=True))))"
   ]
  }
 ],
 "metadata": {
  "interpreter": {
   "hash": "e0314dc982e8a3efb51afd2fccf8f08aea6f0fcf482884c0400dad91b66b3dd3"
  },
  "kernelspec": {
   "display_name": "Python 3.9.12 64-bit (windows store)",
   "language": "python",
   "name": "python3"
  },
  "language_info": {
   "name": "python",
   "version": "3.9.12"
  },
  "orig_nbformat": 4
 },
 "nbformat": 4,
 "nbformat_minor": 2
}
