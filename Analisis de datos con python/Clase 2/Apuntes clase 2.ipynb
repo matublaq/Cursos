{
 "cells": [
  {
   "cell_type": "code",
   "execution_count": 1,
   "metadata": {},
   "outputs": [],
   "source": [
    "Lista = [(\"Campera\", 3500, 1), (\"Mochila\", 2400, 4), (\"Zapatillas\", 5200, 6), (\"Jean\", 1600, 8)]"
   ]
  },
  {
   "cell_type": "code",
   "execution_count": 2,
   "metadata": {},
   "outputs": [
    {
     "name": "stdout",
     "output_type": "stream",
     "text": [
      "El producto Campera vale 3500 y hay en stok 1 unidades.\n",
      "El producto Mochila vale 2400 y hay en stok 4 unidades.\n",
      "El producto Zapatillas vale 5200 y hay en stok 6 unidades.\n",
      "El producto Jean vale 1600 y hay en stok 8 unidades.\n"
     ]
    }
   ],
   "source": [
    "for x, y, z in Lista:\n",
    "    print(f\"El producto {x} vale {y} y hay en stok {z} unidades.\")"
   ]
  },
  {
   "cell_type": "code",
   "execution_count": null,
   "metadata": {},
   "outputs": [],
   "source": []
  }
 ],
 "metadata": {
  "interpreter": {
   "hash": "e0314dc982e8a3efb51afd2fccf8f08aea6f0fcf482884c0400dad91b66b3dd3"
  },
  "kernelspec": {
   "display_name": "Python 3.9.12 64-bit (windows store)",
   "language": "python",
   "name": "python3"
  },
  "language_info": {
   "codemirror_mode": {
    "name": "ipython",
    "version": 3
   },
   "file_extension": ".py",
   "mimetype": "text/x-python",
   "name": "python",
   "nbconvert_exporter": "python",
   "pygments_lexer": "ipython3",
   "version": "3.9.12"
  },
  "orig_nbformat": 4
 },
 "nbformat": 4,
 "nbformat_minor": 2
}
